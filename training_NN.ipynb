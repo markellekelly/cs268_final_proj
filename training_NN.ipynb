{
 "cells": [
  {
   "cell_type": "code",
   "execution_count": 1,
   "metadata": {},
   "outputs": [],
   "source": [
    "import Pkg\n",
    "include(\"NN.jl\")\n",
    "using .NN\n",
    "using RDatasets\n",
    "using StatsBase"
   ]
  },
  {
   "cell_type": "code",
   "execution_count": 2,
   "metadata": {},
   "outputs": [],
   "source": [
    "iris = dataset(\"datasets\", \"iris\");\n",
    "X = Array(iris[1:4]);\n",
    "y = iris[5];\n",
    "n = length(y);"
   ]
  },
  {
   "cell_type": "code",
   "execution_count": 3,
   "metadata": {},
   "outputs": [],
   "source": [
    "dt = fit(ZScoreTransform, X, dims=1)\n",
    "X = StatsBase.transform(dt, X)\n",
    "X = reshape(X, (4, 1, n));"
   ]
  },
  {
   "cell_type": "code",
   "execution_count": 4,
   "metadata": {},
   "outputs": [],
   "source": [
    "function get_indices(v)\n",
    "    return CategoricalArrays.order(v.pool)[v.refs]\n",
    "end\n",
    "    \n",
    "refs=get_indices(y);\n",
    "y=convert(Vector{Int},refs);"
   ]
  },
  {
   "cell_type": "code",
   "execution_count": 5,
   "metadata": {},
   "outputs": [],
   "source": [
    "y_mod = zeros(UInt8, (n, 3))\n",
    "for i in 1:n\n",
    "    y_mod[i, y[i]] = 0x01\n",
    "end"
   ]
  },
  {
   "cell_type": "code",
   "execution_count": 6,
   "metadata": {},
   "outputs": [],
   "source": [
    "nn = NeuralNetwork(4, (20,8), 3, η=0.01);"
   ]
  },
  {
   "cell_type": "code",
   "execution_count": 7,
   "metadata": {},
   "outputs": [
    {
     "data": {
      "text/plain": [
       "training (generic function with 2 methods)"
      ]
     },
     "execution_count": 7,
     "metadata": {},
     "output_type": "execute_result"
    }
   ],
   "source": [
    "function training(iters=10000)\n",
    "    costs = zeros(n);\n",
    "   # nn.learning_rate = 0.000000005 * (10000^2) + 0.0001\n",
    "    #foo(x) = min(0.000000005x^2 + 0.0001, 0.51)\n",
    "    for it in 1:iters\n",
    "        for i in 1:n\n",
    "            result = train(prepare(X[:, 1, i]'), prepare(y_mod[i, :]'), nn)\n",
    "            costs[i] = result[\"cost\"]\n",
    "        end\n",
    "        #nn.learning_rate = foo(it)\n",
    "        if it % 100 == 0\n",
    "            println(\"error = \", sum(costs))\n",
    "        end\n",
    "    end\n",
    "end"
   ]
  },
  {
   "cell_type": "code",
   "execution_count": 8,
   "metadata": {},
   "outputs": [
    {
     "name": "stdout",
     "output_type": "stream",
     "text": [
      "error = 46.16623678890245\n",
      "error = 44.27661053027763\n",
      "error = 43.02495575199823\n",
      "error = 41.768269150773826\n",
      "error = 40.43928690106656\n",
      "error = 39.10126816769174\n",
      "error = 37.84899068746779\n",
      "error = 36.73909186244581\n",
      "error = 35.75466356523181\n",
      "error = 34.86143854078984\n",
      "error = 34.04249514678653\n",
      "error = 33.30132923129583\n",
      "error = 32.647371363501065\n",
      "error = 32.06277193204036\n",
      "error = 31.515484992028156\n",
      "error = 30.981417963424263\n",
      "error = 30.446989231410136\n",
      "error = 29.901517174229422\n",
      "error = 29.33646796109769\n",
      "error = 28.74628515494419\n",
      "error = 28.131667462770828\n",
      "error = 27.50323619831797\n",
      "error = 26.876157765341638\n",
      "error = 26.262805400985158\n",
      "error = 25.67085073732501\n",
      "error = 25.103327513962814\n",
      "error = 24.5596072010199\n",
      "error = 24.036818326555572\n",
      "error = 23.531032714951685\n",
      "error = 23.038126649253712\n",
      "error = 22.5545942286813\n",
      "error = 22.078404082131538\n",
      "error = 21.609490669150315\n",
      "error = 21.149347552106168\n",
      "error = 20.699849244935514\n",
      "error = 20.262069090220418\n",
      "error = 19.835648821132633\n",
      "error = 19.418806615979992\n",
      "error = 19.009306271693184\n",
      "error = 18.606958604981532\n",
      "error = 18.21517381588929\n",
      "error = 17.837433535207893\n",
      "error = 17.474000525570567\n",
      "error = 17.12293061595813\n",
      "error = 16.78170219028409\n",
      "error = 16.44792373171348\n",
      "error = 16.119491118071096\n",
      "error = 15.794590546000128\n",
      "error = 15.471820413162774\n",
      "error = 15.150528258716788\n",
      "error = 14.831187997610833\n",
      "error = 14.515574254059654\n",
      "error = 14.206146820704479\n",
      "error = 13.904014268566122\n",
      "error = 13.607014888365974\n",
      "error = 13.30991347270426\n",
      "error = 13.007212694810974\n",
      "error = 12.697913516106732\n",
      "error = 12.382944861057455\n",
      "error = 12.049696238666717\n",
      "error = 11.675025871928527\n",
      "error = 11.326184123417091\n",
      "error = 11.041641421654807\n",
      "error = 10.795740636164126\n",
      "error = 10.57392034322205\n",
      "error = 10.369691166088405\n",
      "error = 10.179534917747407\n",
      "error = 10.001202122641073\n",
      "error = 9.833125332806002\n",
      "error = 9.674164926222623\n",
      "error = 9.523467915250233\n",
      "error = 9.380376111151092\n",
      "error = 9.244362852250735\n",
      "error = 9.114989152661725\n",
      "error = 8.991873586210037\n",
      "error = 8.874671796125197\n",
      "error = 8.763062754845784\n",
      "error = 8.656739936649817\n",
      "error = 8.555406226132588\n",
      "error = 8.458771637230969\n",
      "error = 8.366552960900293\n",
      "error = 8.278474525510376\n",
      "error = 8.194269426942217\n",
      "error = 8.113680810623412\n",
      "error = 8.036462980392635\n",
      "error = 7.962382230234661\n",
      "error = 7.891217356072018\n",
      "error = 7.822759835945383\n",
      "error = 7.7568136899531\n",
      "error = 7.693195053055434\n",
      "error = 7.631731511978997\n",
      "error = 7.572261268392207\n",
      "error = 7.514632193353815\n",
      "error = 7.458700834725795\n",
      "error = 7.404331433106279\n",
      "error = 7.3513949961821305\n",
      "error = 7.299768478721659\n",
      "error = 7.249334117140061\n",
      "error = 7.19997897379287\n",
      "error = 7.151594755152961\n"
     ]
    }
   ],
   "source": [
    "training()"
   ]
  },
  {
   "cell_type": "code",
   "execution_count": 11,
   "metadata": {},
   "outputs": [
    {
     "data": {
      "text/plain": [
       "check (generic function with 1 method)"
      ]
     },
     "execution_count": 11,
     "metadata": {},
     "output_type": "execute_result"
    }
   ],
   "source": [
    "function check()\n",
    "    checks = Dict(\"HIT\" => 0, \"MISS\" => 0)\n",
    "    for i in 1:n\n",
    "        if argmax(NN.predict(prepare(X[:, 1, i]'), nn)[\"result\"])[2] == y[i]\n",
    "            checks[\"HIT\"] += 1\n",
    "        else\n",
    "            checks[\"MISS\"] += 1\n",
    "        end\n",
    "    end\n",
    "    println(\"accuracy = $(checks[\"HIT\"] / 150)%\")\n",
    "end"
   ]
  },
  {
   "cell_type": "code",
   "execution_count": 12,
   "metadata": {},
   "outputs": [
    {
     "name": "stdout",
     "output_type": "stream",
     "text": [
      "accuracy = 0.94%\n"
     ]
    }
   ],
   "source": [
    "check()"
   ]
  },
  {
   "cell_type": "code",
   "execution_count": null,
   "metadata": {},
   "outputs": [],
   "source": []
  }
 ],
 "metadata": {
  "kernelspec": {
   "display_name": "Julia 1.5.2",
   "language": "julia",
   "name": "julia-1.5"
  },
  "language_info": {
   "file_extension": ".jl",
   "mimetype": "application/julia",
   "name": "julia",
   "version": "1.5.2"
  }
 },
 "nbformat": 4,
 "nbformat_minor": 4
}
