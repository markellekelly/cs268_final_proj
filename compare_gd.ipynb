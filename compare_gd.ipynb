{
 "cells": [
  {
   "cell_type": "markdown",
   "metadata": {},
   "source": [
    "## imports, data loading, & data prep."
   ]
  },
  {
   "cell_type": "code",
   "execution_count": null,
   "metadata": {},
   "outputs": [],
   "source": [
    "import Pkg\n",
    "include(\"EVGONN.jl\")\n",
    "include(\"NN.jl\")\n",
    "using .EVGONN\n",
    "using .NN\n",
    "using StatsBase\n",
    "using MLDatasets"
   ]
  },
  {
   "cell_type": "code",
   "execution_count": null,
   "metadata": {},
   "outputs": [],
   "source": [
    "n_categories = 10;\n",
    "n_var = 784;\n",
    "n = 60000;"
   ]
  },
  {
   "cell_type": "code",
   "execution_count": null,
   "metadata": {},
   "outputs": [],
   "source": [
    "train_x, train_y = FashionMNIST.traindata()\n",
    "test_x, test_y  = FashionMNIST.testdata();"
   ]
  },
  {
   "cell_type": "code",
   "execution_count": null,
   "metadata": {},
   "outputs": [],
   "source": [
    "X_train = reshape(convert(Array{Float64}, train_x), (n_var, n));\n",
    "X_test = reshape(convert(Array{Float64}, test_x), (n_var, 10000));\n",
    "X = hcat(X_train, X_test);"
   ]
  },
  {
   "cell_type": "code",
   "execution_count": null,
   "metadata": {},
   "outputs": [],
   "source": [
    "dt = fit(ZScoreTransform, Array(X), dims=1)\n",
    "X = StatsBase.transform(dt, X);"
   ]
  },
  {
   "cell_type": "code",
   "execution_count": null,
   "metadata": {},
   "outputs": [],
   "source": [
    "X_train = reshape(X[:,1:60000], (n_var, 1, 60000));\n",
    "X_test = reshape(X[:,60001:70000], (n_var, 1, 10000));"
   ]
  },
  {
   "cell_type": "code",
   "execution_count": null,
   "metadata": {},
   "outputs": [],
   "source": [
    "train_y = train_y.+ 1;\n",
    "y_test = test_y.+ 1;"
   ]
  },
  {
   "cell_type": "code",
   "execution_count": null,
   "metadata": {},
   "outputs": [],
   "source": [
    "y_train = zeros(UInt8, (n, n_categories))\n",
    "for i in 1:60000\n",
    "    y_train[i, train_y[i]] = 0x01\n",
    "end"
   ]
  },
  {
   "cell_type": "markdown",
   "metadata": {},
   "source": [
    "## compare vanilla and EVGO gradient descent."
   ]
  },
  {
   "cell_type": "code",
   "execution_count": null,
   "metadata": {},
   "outputs": [],
   "source": [
    "nn_van = NN.NeuralNetwork(n_var, (40,20,20), n_categories, η=0.02);\n",
    "nn_evgo = EVGONN.NeuralNetwork(n_var, (40,20,20), n_categories, 3, η=0.05, β1=0.02, β2=0.0000001);"
   ]
  },
  {
   "cell_type": "code",
   "execution_count": null,
   "metadata": {},
   "outputs": [],
   "source": [
    "function EV_check(nn)\n",
    "    checks = Dict(\"HIT\" => 0, \"MISS\" => 0)\n",
    "    for i in 1:10000\n",
    "        if argmax(EVGONN.predict(EVGONN.prepare(X_test[:, 1, i]'), nn)[\"result\"])[2] == y_test[i]\n",
    "            checks[\"HIT\"] += 1\n",
    "        else\n",
    "            checks[\"MISS\"] += 1\n",
    "        end\n",
    "    end\n",
    "    return checks[\"HIT\"] / 10000\n",
    "end"
   ]
  },
  {
   "cell_type": "code",
   "execution_count": null,
   "metadata": {},
   "outputs": [],
   "source": [
    "function EV_train(nn, iters=10000)\n",
    "    start = time()\n",
    "    costs = zeros(60000)\n",
    "    old_costs = sum(costs)\n",
    "    losses = zeros(2000)\n",
    "    j = 1\n",
    "    for it in 1:iters\n",
    "        for i in 1:60000\n",
    "            result = EVGONN.train(EVGONN.prepare(X_train[:, 1, i]'), EVGONN.prepare(y_train[i, :]'), nn)\n",
    "            costs[i] = result[\"cost\"]\n",
    "        end\n",
    "        if it % 5 == 0\n",
    "            new_costs = sum(costs)\n",
    "            losses[j] = new_costs\n",
    "            println(\"error = \", new_costs)\n",
    "            j = j + 1\n",
    "            if abs(new_costs - old_costs) < 10\n",
    "                total_time = (time() - start)\n",
    "                test_acc = EV_check(nn)\n",
    "                return [new_costs, test_acc, it, total_time, losses]\n",
    "            end\n",
    "            old_costs = new_costs\n",
    "        end\n",
    "        if it % 10 == 0\n",
    "            nn.learning_rate = nn.learning_rate * 0.9\n",
    "            nn.β1 = nn.β1 * 0.99\n",
    "        end\n",
    "    end\n",
    "    new_costs = sum(costs)\n",
    "    total_time = (time() - start)\n",
    "    test_acc = EV_check(nn)\n",
    "    return [new_costs, test_acc, iters, total_time, losses]\n",
    "end"
   ]
  },
  {
   "cell_type": "code",
   "execution_count": null,
   "metadata": {},
   "outputs": [],
   "source": [
    "result_EV = EV_train(nn_evgo)"
   ]
  },
  {
   "cell_type": "code",
   "execution_count": null,
   "metadata": {},
   "outputs": [],
   "source": [
    "function VAN_check(nn)\n",
    "    checks = Dict(\"HIT\" => 0, \"MISS\" => 0)\n",
    "    for i in 1:10000\n",
    "        if argmax(NN.predict(NN.prepare(X_test[:, 1, i]'), nn)[\"result\"])[2] == y_test[i]\n",
    "            checks[\"HIT\"] += 1\n",
    "        else\n",
    "            checks[\"MISS\"] += 1\n",
    "        end\n",
    "    end\n",
    "    return checks[\"HIT\"] / 10000\n",
    "end"
   ]
  },
  {
   "cell_type": "code",
   "execution_count": null,
   "metadata": {},
   "outputs": [],
   "source": [
    "function VAN_train(nn, iters=10000)\n",
    "    start = time()\n",
    "    costs = zeros(60000)\n",
    "    old_costs = sum(costs)\n",
    "    losses = zeros(2000)\n",
    "    j = 1\n",
    "    for it in 1:iters\n",
    "        for i in 1:60000\n",
    "            result = NN.train(NN.prepare(X_train[:, 1, i]'), NN.prepare(y_train[i, :]'), nn)\n",
    "            costs[i] = result[\"cost\"]\n",
    "        end\n",
    "        if it % 5 == 0\n",
    "            new_costs = sum(costs)\n",
    "            losses[j] = new_costs\n",
    "            println(\"error = \", new_costs)\n",
    "            j = j + 1\n",
    "            if abs(new_costs - old_costs) < 10\n",
    "                total_time = (time() - start)\n",
    "                test_acc = VAN_check(nn)\n",
    "                return [new_costs, test_acc, it, total_time, losses]\n",
    "            end\n",
    "            old_costs = new_costs\n",
    "        end\n",
    "        if it % 10 == 0\n",
    "            nn.learning_rate = nn.learning_rate * 0.9\n",
    "        end\n",
    "    end\n",
    "    new_costs = sum(costs)\n",
    "    total_time = (time() - start)\n",
    "    test_acc = EV_check(nn)\n",
    "    return [new_costs, test_acc, iters, total_time, losses]\n",
    "end"
   ]
  },
  {
   "cell_type": "code",
   "execution_count": null,
   "metadata": {},
   "outputs": [],
   "source": [
    "result_VAN = VAN_train(nn_van)"
   ]
  }
 ],
 "metadata": {
  "kernelspec": {
   "display_name": "Julia 1.5.2",
   "language": "julia",
   "name": "julia-1.5"
  },
  "language_info": {
   "file_extension": ".jl",
   "mimetype": "application/julia",
   "name": "julia",
   "version": "1.5.2"
  }
 },
 "nbformat": 4,
 "nbformat_minor": 4
}
