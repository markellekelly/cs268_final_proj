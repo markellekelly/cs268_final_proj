{
 "cells": [
  {
   "cell_type": "code",
   "execution_count": 1,
   "metadata": {},
   "outputs": [],
   "source": [
    "import Pkg\n",
    "include(\"EVGONN.jl\")\n",
    "using .EVGONN\n",
    "using RDatasets\n",
    "using StatsBase"
   ]
  },
  {
   "cell_type": "code",
   "execution_count": 2,
   "metadata": {},
   "outputs": [],
   "source": [
    "iris = dataset(\"datasets\", \"iris\");\n",
    "X = Array(iris[1:4]);\n",
    "y = iris[5];\n",
    "n = length(y);"
   ]
  },
  {
   "cell_type": "code",
   "execution_count": 3,
   "metadata": {},
   "outputs": [],
   "source": [
    "dt = fit(ZScoreTransform, X, dims=1)\n",
    "X = StatsBase.transform(dt, X)\n",
    "X = reshape(X, (4, 1, n));"
   ]
  },
  {
   "cell_type": "code",
   "execution_count": 4,
   "metadata": {},
   "outputs": [],
   "source": [
    "function get_indices(v)\n",
    "    return CategoricalArrays.order(v.pool)[v.refs]\n",
    "end\n",
    "    \n",
    "refs=get_indices(y);\n",
    "y=convert(Vector{Int},refs);"
   ]
  },
  {
   "cell_type": "code",
   "execution_count": 5,
   "metadata": {},
   "outputs": [],
   "source": [
    "y_mod = zeros(UInt8, (n, 3))\n",
    "for i in 1:n\n",
    "    y_mod[i, y[i]] = 0x01\n",
    "end"
   ]
  },
  {
   "cell_type": "code",
   "execution_count": 12,
   "metadata": {},
   "outputs": [],
   "source": [
    "nn = NeuralNetwork(4, (20,8), 3, 1, η=0.01, β1=0.01, β2=0.02);"
   ]
  },
  {
   "cell_type": "code",
   "execution_count": 13,
   "metadata": {},
   "outputs": [
    {
     "data": {
      "text/plain": [
       "training (generic function with 2 methods)"
      ]
     },
     "execution_count": 13,
     "metadata": {},
     "output_type": "execute_result"
    }
   ],
   "source": [
    "function training(iters=10000)\n",
    "    #nn.learning_rate = 0.1\n",
    "    #nn.β1 = 0.1\n",
    "    costs = zeros(n);\n",
    "    foo(x) = min(0.0000000005x^2 + 0.01, 0.51)\n",
    "    for it in 1:iters\n",
    "        for i in 1:n\n",
    "            result = train(prepare(X[:, 1, i]'), prepare(y_mod[i, :]'), nn)\n",
    "            costs[i] = result[\"cost\"]\n",
    "        end\n",
    "        #nn.learning_rate = foo(it)\n",
    "        if it % 100 == 0\n",
    "            println(\"error = \", sum(costs))\n",
    "        end\n",
    "    end\n",
    "end"
   ]
  },
  {
   "cell_type": "code",
   "execution_count": 14,
   "metadata": {},
   "outputs": [
    {
     "name": "stdout",
     "output_type": "stream",
     "text": [
      "error = 45.15348324754067\n",
      "error = 43.97765374342861\n",
      "error = 43.354287502661066\n",
      "error = 42.81951990933257\n",
      "error = 42.26529105675342\n",
      "error = 41.65147591564698\n",
      "error = 40.95969677043291\n",
      "error = 40.15878869304489\n",
      "error = 39.22553021414053\n",
      "error = 38.22186771360709\n",
      "error = 37.240471065109226\n",
      "error = 36.32870318374572\n",
      "error = 35.4875364627363\n",
      "error = 34.6963025680081\n",
      "error = 33.938581780851536\n",
      "error = 33.21092331009756\n",
      "error = 32.51819471558205\n",
      "error = 31.865227309323842\n",
      "error = 31.25586136553954\n",
      "error = 30.693033307566985\n",
      "error = 30.177885523145093\n",
      "error = 29.709492731707012\n",
      "error = 29.285258272274174\n",
      "error = 28.901476413900983\n",
      "error = 28.55377802849098\n",
      "error = 28.237424582691798\n",
      "error = 27.947505258186403\n",
      "error = 27.679073424665145\n",
      "error = 27.427221666155877\n",
      "error = 27.187117839313302\n",
      "error = 26.954148346120117\n",
      "error = 26.724202574139362\n",
      "error = 26.49333290966668\n",
      "error = 26.25678900737472\n",
      "error = 26.010093360719686\n",
      "error = 25.752624389403017\n",
      "error = 25.48810292969524\n",
      "error = 25.22012470636162\n",
      "error = 24.949285618942056\n",
      "error = 24.674056026419525\n",
      "error = 24.392376423130802\n",
      "error = 24.10235785842724\n",
      "error = 23.80243800639897\n",
      "error = 23.49138956599008\n",
      "error = 23.168321781328974\n",
      "error = 22.83282481290152\n",
      "error = 22.48532835793472\n",
      "error = 22.127441415825203\n",
      "error = 21.76179214349962\n",
      "error = 21.391161788389958\n",
      "error = 21.017401266272994\n",
      "error = 20.64080705817136\n",
      "error = 20.26015741778038\n",
      "error = 19.873404334369223\n",
      "error = 19.47913350411898\n",
      "error = 19.07804341625911\n",
      "error = 18.672595035039645\n",
      "error = 18.265297349793595\n",
      "error = 17.858097948526172\n",
      "error = 17.452996205949944\n",
      "error = 17.052548225526987\n",
      "error = 16.659703166210367\n",
      "error = 16.277194225996038\n",
      "error = 15.906937252149147\n",
      "error = 15.549776178204617\n",
      "error = 15.205634476627658\n",
      "error = 14.873916763786772\n",
      "error = 14.55395737754043\n",
      "error = 14.24530951451402\n",
      "error = 13.947720564819713\n",
      "error = 13.660902458808229\n",
      "error = 13.384449103974664\n",
      "error = 13.118101147639477\n",
      "error = 12.862150313639036\n",
      "error = 12.617504389686328\n",
      "error = 12.385214339835485\n",
      "error = 12.16589741438315\n",
      "error = 11.959516483615305\n",
      "error = 11.765491852209406\n",
      "error = 11.582918618314343\n",
      "error = 11.41075267468817\n",
      "error = 11.24793346900944\n",
      "error = 11.093455336402638\n",
      "error = 10.94640555195152\n",
      "error = 10.805982177224005\n",
      "error = 10.67149959532068\n",
      "error = 10.542386489721132\n",
      "error = 10.418179231216735\n",
      "error = 10.298512502270846\n",
      "error = 10.183108223337882\n",
      "error = 10.071763340044786\n",
      "error = 9.9643367195412\n",
      "error = 9.86073526211484\n",
      "error = 9.76089937171626\n",
      "error = 9.66478815743714\n",
      "error = 9.572365102435036\n",
      "error = 9.483585279214424\n",
      "error = 9.398385296941976\n",
      "error = 9.31667689360505\n",
      "error = 9.238344470735393\n"
     ]
    }
   ],
   "source": [
    "training()"
   ]
  },
  {
   "cell_type": "code",
   "execution_count": 9,
   "metadata": {},
   "outputs": [
    {
     "data": {
      "text/plain": [
       "check (generic function with 1 method)"
      ]
     },
     "execution_count": 9,
     "metadata": {},
     "output_type": "execute_result"
    }
   ],
   "source": [
    "function check()\n",
    "    checks = Dict(\"HIT\" => 0, \"MISS\" => 0)\n",
    "    for i in 1:n\n",
    "        #println(predict(prepare(X[:, 1, i]'), nn)[\"result\"])\n",
    "        #println(argmax(predict(prepare(X[:, 1, i]'), nn)[\"result\"])[2])\n",
    "        #println(y[i])\n",
    "        if argmax(EVGONN.predict(prepare(X[:, 1, i]'), nn)[\"result\"])[2] == y[i]\n",
    "            checks[\"HIT\"] += 1\n",
    "        else\n",
    "            checks[\"MISS\"] += 1\n",
    "        end\n",
    "    end\n",
    "    println(\"accuracy = $(checks[\"HIT\"] / 150)%\")\n",
    "end"
   ]
  },
  {
   "cell_type": "code",
   "execution_count": 10,
   "metadata": {},
   "outputs": [
    {
     "name": "stdout",
     "output_type": "stream",
     "text": [
      "accuracy = 0.92%\n"
     ]
    }
   ],
   "source": [
    "check()"
   ]
  },
  {
   "cell_type": "code",
   "execution_count": null,
   "metadata": {},
   "outputs": [],
   "source": []
  }
 ],
 "metadata": {
  "kernelspec": {
   "display_name": "Julia 1.5.2",
   "language": "julia",
   "name": "julia-1.5"
  },
  "language_info": {
   "file_extension": ".jl",
   "mimetype": "application/julia",
   "name": "julia",
   "version": "1.5.2"
  }
 },
 "nbformat": 4,
 "nbformat_minor": 4
}
