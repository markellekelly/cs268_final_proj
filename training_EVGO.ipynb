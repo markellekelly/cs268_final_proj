{
 "cells": [
  {
   "cell_type": "code",
   "execution_count": 1,
   "metadata": {},
   "outputs": [],
   "source": [
    "import Pkg\n",
    "include(\"EVGONN.jl\")\n",
    "using .EVGONN\n",
    "using RDatasets\n",
    "using StatsBase"
   ]
  },
  {
   "cell_type": "code",
   "execution_count": 2,
   "metadata": {},
   "outputs": [],
   "source": [
    "iris = dataset(\"datasets\", \"iris\");\n",
    "X = Array(iris[1:4]);\n",
    "y = iris[5];\n",
    "n = length(y);"
   ]
  },
  {
   "cell_type": "code",
   "execution_count": 3,
   "metadata": {},
   "outputs": [],
   "source": [
    "dt = fit(ZScoreTransform, X, dims=1)\n",
    "X = StatsBase.transform(dt, X)\n",
    "X = reshape(X, (4, 1, n));"
   ]
  },
  {
   "cell_type": "code",
   "execution_count": 4,
   "metadata": {},
   "outputs": [],
   "source": [
    "function get_indices(v)\n",
    "    return CategoricalArrays.order(v.pool)[v.refs]\n",
    "end\n",
    "    \n",
    "refs=get_indices(y);\n",
    "y=convert(Vector{Int},refs);"
   ]
  },
  {
   "cell_type": "code",
   "execution_count": 5,
   "metadata": {},
   "outputs": [],
   "source": [
    "y_mod = zeros(UInt8, (n, 3))\n",
    "for i in 1:n\n",
    "    y_mod[i, y[i]] = 0x01\n",
    "end"
   ]
  },
  {
   "cell_type": "code",
   "execution_count": 30,
   "metadata": {},
   "outputs": [],
   "source": [
    "nn = NeuralNetwork(4, (20,8), 3, 3, η=0.01, β1=0.01, β2=0.0000000001);"
   ]
  },
  {
   "cell_type": "code",
   "execution_count": 31,
   "metadata": {},
   "outputs": [
    {
     "data": {
      "text/plain": [
       "training (generic function with 2 methods)"
      ]
     },
     "execution_count": 31,
     "metadata": {},
     "output_type": "execute_result"
    }
   ],
   "source": [
    "function training(iters=10000)\n",
    "    costs = zeros(n);\n",
    "    foo(x) = min(0.0000000005x^2 + 0.01, 0.51)\n",
    "    for it in 1:iters\n",
    "        for i in 1:n\n",
    "            result = train(prepare(X[:, 1, i]'), prepare(y_mod[i, :]'), nn)\n",
    "            costs[i] = result[\"cost\"]\n",
    "        end\n",
    "        #nn.learning_rate = foo(it)\n",
    "        if it % 100 == 0\n",
    "            #nn.β2 = nn.β2 * 0.75\n",
    "            println(\"error = \", sum(costs))\n",
    "        end\n",
    "    end\n",
    "end"
   ]
  },
  {
   "cell_type": "code",
   "execution_count": 32,
   "metadata": {},
   "outputs": [
    {
     "name": "stdout",
     "output_type": "stream",
     "text": [
      "error = 39.4556188018448\n",
      "error = 40.06760531812704\n",
      "error = 39.31345562781418\n",
      "error = 38.38964851953039\n",
      "error = 37.422589942147205\n",
      "error = 36.36576486833826\n",
      "error = 35.14097273371367\n",
      "error = 33.52760492016711\n",
      "error = 31.764780470596598\n",
      "error = 30.09906042707304\n",
      "error = 28.654612595715083\n",
      "error = 27.355562144090804\n",
      "error = 26.169951299288623\n",
      "error = 25.10439303659338\n",
      "error = 24.153771358172637\n",
      "error = 23.304925942516203\n",
      "error = 22.5568437879672\n",
      "error = 21.900684284340883\n",
      "error = 21.286438882020473\n",
      "error = 20.634421999032003\n",
      "error = 19.930583854220153\n",
      "error = 19.123824789373568\n",
      "error = 18.308775329957562\n",
      "error = 17.532357899735004\n",
      "error = 16.82941084902484\n",
      "error = 16.21074366098819\n",
      "error = 15.644840645960306\n",
      "error = 15.120099434150214\n",
      "error = 14.638943116368955\n",
      "error = 14.201376660343936\n",
      "error = 13.790698048590349\n",
      "error = 13.388281713875875\n",
      "error = 13.025371776314124\n",
      "error = 12.708819789028723\n",
      "error = 12.380822319870125\n",
      "error = 12.124264392589984\n",
      "error = 11.898024183168877\n",
      "error = 11.708630400340386\n",
      "error = 11.491907388631788\n",
      "error = 11.278928253716169\n",
      "error = 11.05706223773164\n",
      "error = 10.831008138764563\n",
      "error = 10.580301261764536\n",
      "error = 10.28244095260082\n",
      "error = 9.957767953426586\n",
      "error = 9.66832975387732\n",
      "error = 9.420933188088933\n",
      "error = 9.207907379376653\n",
      "error = 9.005059059625303\n",
      "error = 8.82356795886114\n",
      "error = 8.66195579228085\n",
      "error = 8.503914064685691\n",
      "error = 8.355674423038785\n",
      "error = 8.215606698913275\n",
      "error = 8.075348957317345\n",
      "error = 7.930042923672903\n",
      "error = 7.787800840381559\n",
      "error = 7.640365606969481\n",
      "error = 7.498490437072783\n",
      "error = 7.361279348355089\n",
      "error = 7.228799539327121\n",
      "error = 7.100938483096513\n",
      "error = 6.981300892602833\n",
      "error = 6.868586019384524\n",
      "error = 6.7543110476543555\n",
      "error = 6.642733788895194\n",
      "error = 6.537230722342816\n",
      "error = 6.435894570237207\n",
      "error = 6.338126164950993\n",
      "error = 6.246888108728042\n",
      "error = 6.162794698814428\n",
      "error = 6.096354492471103\n",
      "error = 6.00606111636141\n",
      "error = 5.897756238165052\n",
      "error = 5.80709988822469\n",
      "error = 5.7257453545498045\n",
      "error = 5.650929423042575\n",
      "error = 5.581184975339709\n",
      "error = 5.5142754087401125\n",
      "error = 5.4506293942296296\n",
      "error = 5.390372749378342\n",
      "error = 5.331826037263884\n",
      "error = 5.274952509492416\n",
      "error = 5.220149810677235\n",
      "error = 5.16661589417827\n",
      "error = 5.113715394136046\n",
      "error = 5.060424958221004\n",
      "error = 5.007828493761664\n",
      "error = 4.956125354613916\n",
      "error = 4.9057103865869784\n",
      "error = 4.85680456434254\n",
      "error = 4.809466134223407\n",
      "error = 4.76193231536672\n",
      "error = 4.713642652917209\n",
      "error = 4.66613633696281\n",
      "error = 4.618224497209182\n",
      "error = 4.5682069468873285\n",
      "error = 4.51908012096189\n",
      "error = 4.467094878410946\n",
      "error = 4.4164869165952725\n"
     ]
    }
   ],
   "source": [
    "training()"
   ]
  },
  {
   "cell_type": "code",
   "execution_count": 33,
   "metadata": {},
   "outputs": [
    {
     "data": {
      "text/plain": [
       "check (generic function with 1 method)"
      ]
     },
     "execution_count": 33,
     "metadata": {},
     "output_type": "execute_result"
    }
   ],
   "source": [
    "function check()\n",
    "    checks = Dict(\"HIT\" => 0, \"MISS\" => 0)\n",
    "    for i in 1:n\n",
    "        #println(predict(prepare(X[:, 1, i]'), nn)[\"result\"])\n",
    "        #println(argmax(predict(prepare(X[:, 1, i]'), nn)[\"result\"])[2])\n",
    "        #println(y[i])\n",
    "        if argmax(EVGONN.predict(prepare(X[:, 1, i]'), nn)[\"result\"])[2] == y[i]\n",
    "            checks[\"HIT\"] += 1\n",
    "        else\n",
    "            checks[\"MISS\"] += 1\n",
    "        end\n",
    "    end\n",
    "    println(\"accuracy = $(checks[\"HIT\"] / 150)%\")\n",
    "end"
   ]
  },
  {
   "cell_type": "code",
   "execution_count": 34,
   "metadata": {},
   "outputs": [
    {
     "name": "stdout",
     "output_type": "stream",
     "text": [
      "accuracy = 0.9333333333333333%\n"
     ]
    }
   ],
   "source": [
    "check()"
   ]
  },
  {
   "cell_type": "code",
   "execution_count": null,
   "metadata": {},
   "outputs": [],
   "source": []
  }
 ],
 "metadata": {
  "kernelspec": {
   "display_name": "Julia 1.5.2",
   "language": "julia",
   "name": "julia-1.5"
  },
  "language_info": {
   "file_extension": ".jl",
   "mimetype": "application/julia",
   "name": "julia",
   "version": "1.5.2"
  }
 },
 "nbformat": 4,
 "nbformat_minor": 4
}
