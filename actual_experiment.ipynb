{
 "cells": [
  {
   "cell_type": "markdown",
   "metadata": {},
   "source": [
    "## imports & data loading."
   ]
  },
  {
   "cell_type": "code",
   "execution_count": 1,
   "metadata": {},
   "outputs": [],
   "source": [
    "import Pkg\n",
    "include(\"EVGONN.jl\")\n",
    "include(\"NN.jl\")\n",
    "using .EVGONN\n",
    "using .NN\n",
    "using RDatasets\n",
    "using StatsBase"
   ]
  },
  {
   "cell_type": "code",
   "execution_count": 2,
   "metadata": {},
   "outputs": [],
   "source": [
    "# import dataset here as X, y"
   ]
  },
  {
   "cell_type": "code",
   "execution_count": null,
   "metadata": {},
   "outputs": [],
   "source": [
    "n_categories = 3\n",
    "n_var = 4"
   ]
  },
  {
   "cell_type": "code",
   "execution_count": 3,
   "metadata": {},
   "outputs": [],
   "source": [
    "dt = fit(ZScoreTransform, X, dims=1)\n",
    "X = StatsBase.transform(dt, X)\n",
    "X = reshape(X, (n_var, 1, n));"
   ]
  },
  {
   "cell_type": "code",
   "execution_count": 4,
   "metadata": {},
   "outputs": [],
   "source": [
    "function get_indices(v)\n",
    "    return CategoricalArrays.order(v.pool)[v.refs]\n",
    "end\n",
    "    \n",
    "refs=get_indices(y);\n",
    "y=convert(Vector{Int},refs);"
   ]
  },
  {
   "cell_type": "code",
   "execution_count": 5,
   "metadata": {},
   "outputs": [],
   "source": [
    "y_mod = zeros(UInt8, (n, n_categories))\n",
    "for i in 1:n\n",
    "    y_mod[i, y[i]] = 0x01\n",
    "end"
   ]
  },
  {
   "cell_type": "markdown",
   "metadata": {},
   "source": [
    "## model exploration."
   ]
  },
  {
   "cell_type": "code",
   "execution_count": 3,
   "metadata": {},
   "outputs": [],
   "source": [
    "# optimize each separately and see overall which can attain better accuracy\n",
    "# explore # of hidden layers, # nodes, and experiment with changing learning rate over time\n",
    "# also compare # of iterations and running time"
   ]
  },
  {
   "cell_type": "code",
   "execution_count": 4,
   "metadata": {},
   "outputs": [],
   "source": [
    "nn_van = NN.NeuralNetwork(4, (20,8), 3, η=0.01);\n",
    "nn_evgo = EVGONN.NeuralNetwork(4, (20,8), 3, 3, η=0.01, β1=0.01, β2=0.000000001);"
   ]
  },
  {
   "cell_type": "code",
   "execution_count": 31,
   "metadata": {},
   "outputs": [
    {
     "data": {
      "text/plain": [
       "training (generic function with 2 methods)"
      ]
     },
     "execution_count": 31,
     "metadata": {},
     "output_type": "execute_result"
    }
   ],
   "source": [
    "function training(iters=10000)\n",
    "    costs = zeros(n);\n",
    "    lr_up(x) = min(0.0000000005x^2 + 0.01, 0.51)\n",
    "    for it in 1:iters\n",
    "        for i in 1:n\n",
    "            result = train(prepare(X[:, 1, i]'), prepare(y_mod[i, :]'), nn_van)\n",
    "            costs[i] = result[\"cost\"]\n",
    "        end\n",
    "        #nn_van.learning_rate = lr_up(it)\n",
    "        if it % 500 == 0\n",
    "            #nn_van.β2 = nn_van.β2 * 0.5\n",
    "            println(\"error = \", sum(costs))\n",
    "        end\n",
    "    end\n",
    "end"
   ]
  },
  {
   "cell_type": "code",
   "execution_count": null,
   "metadata": {},
   "outputs": [],
   "source": [
    "training()"
   ]
  },
  {
   "cell_type": "markdown",
   "metadata": {},
   "source": [
    "## hyperparameter search"
   ]
  },
  {
   "cell_type": "code",
   "execution_count": 5,
   "metadata": {},
   "outputs": [],
   "source": [
    "# for evgo nns only, run a grid search over η, β1, and β2"
   ]
  },
  {
   "cell_type": "code",
   "execution_count": 6,
   "metadata": {},
   "outputs": [],
   "source": [
    "# plot results"
   ]
  },
  {
   "cell_type": "code",
   "execution_count": 7,
   "metadata": {},
   "outputs": [],
   "source": [
    "# done :)"
   ]
  },
  {
   "cell_type": "code",
   "execution_count": null,
   "metadata": {},
   "outputs": [],
   "source": []
  }
 ],
 "metadata": {
  "kernelspec": {
   "display_name": "Julia 1.5.2",
   "language": "julia",
   "name": "julia-1.5"
  },
  "language_info": {
   "file_extension": ".jl",
   "mimetype": "application/julia",
   "name": "julia",
   "version": "1.5.2"
  }
 },
 "nbformat": 4,
 "nbformat_minor": 4
}
